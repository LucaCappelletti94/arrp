{
 "cells": [
  {
   "cell_type": "code",
   "execution_count": 1,
   "metadata": {},
   "outputs": [],
   "source": [
    "path = \"dataset/mlp/GM12878/Active_enhancers_vs_active_promoters/umbalanced/0/.gaussian_cache/\""
   ]
  },
  {
   "cell_type": "code",
   "execution_count": 2,
   "metadata": {},
   "outputs": [],
   "source": [
    "import os"
   ]
  },
  {
   "cell_type": "code",
   "execution_count": 5,
   "metadata": {},
   "outputs": [],
   "source": [
    "hashes = os.listdir(path)"
   ]
  },
  {
   "cell_type": "code",
   "execution_count": 56,
   "metadata": {},
   "outputs": [
    {
     "data": {
      "text/plain": [
       "['gp-8122723804930666227.json',\n",
       " 'gp-282435054703907047.json',\n",
       " '162235351962096794.json',\n",
       " 'gp8585515835191748134.json',\n",
       " '-6692355822971861879.json',\n",
       " 'gp-1745644871052625534.json']"
      ]
     },
     "execution_count": 56,
     "metadata": {},
     "output_type": "execute_result"
    }
   ],
   "source": [
    "hashes"
   ]
  },
  {
   "cell_type": "code",
   "execution_count": 4,
   "metadata": {},
   "outputs": [],
   "source": [
    "import json"
   ]
  },
  {
   "cell_type": "code",
   "execution_count": 53,
   "metadata": {},
   "outputs": [],
   "source": [
    "datas = [\n",
    "    json.load(open(\"{path}/{h}\".format(path=path, h=h), \"r\"))\n",
    "    for h in hashes\n",
    "]"
   ]
  },
  {
   "cell_type": "code",
   "execution_count": 58,
   "metadata": {},
   "outputs": [
    {
     "data": {
      "text/plain": [
       "True"
      ]
     },
     "execution_count": 58,
     "metadata": {},
     "output_type": "execute_result"
    }
   ],
   "source": [
    "hash(json.dumps(datas[0][\"parameters\"], sort_keys=True)) == hash(json.dumps(datas[1][\"parameters\"], sort_keys=True))"
   ]
  },
  {
   "cell_type": "code",
   "execution_count": 51,
   "metadata": {},
   "outputs": [
    {
     "data": {
      "text/plain": [
       "{'dense': [{'dense': {'activation': 'relu', 'layers': 3, 'units': 60},\n",
       "   'dropout': {'rate': 0}},\n",
       "  {'dense': {'activation': 'relu', 'layers': 3, 'units': 123},\n",
       "   'dropout': {'rate': 0}},\n",
       "  {'dense': {'activation': 'relu', 'layers': 2, 'units': 96},\n",
       "   'dropout': {'rate': 0}}],\n",
       " 'input_shape': [101]}"
      ]
     },
     "execution_count": 51,
     "metadata": {},
     "output_type": "execute_result"
    }
   ],
   "source": [
    "data[\"parameters\"]"
   ]
  },
  {
   "cell_type": "code",
   "execution_count": null,
   "metadata": {},
   "outputs": [],
   "source": []
  }
 ],
 "metadata": {
  "kernelspec": {
   "display_name": "Python 3",
   "language": "python",
   "name": "python3"
  },
  "language_info": {
   "codemirror_mode": {
    "name": "ipython",
    "version": 3
   },
   "file_extension": ".py",
   "mimetype": "text/x-python",
   "name": "python",
   "nbconvert_exporter": "python",
   "pygments_lexer": "ipython3",
   "version": "3.7.3"
  }
 },
 "nbformat": 4,
 "nbformat_minor": 2
}
